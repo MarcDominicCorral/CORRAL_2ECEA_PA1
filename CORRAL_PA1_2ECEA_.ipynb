{
 "cells": [
  {
   "cell_type": "markdown",
   "id": "bd57ce34-2dc8-47ce-bbb8-fe51a4dcaa98",
   "metadata": {},
   "source": [
    "ALPHABET SOUP PROBLEM"
   ]
  },
  {
   "cell_type": "markdown",
   "id": "378d56ff-8be6-4b0c-a8e9-9bce546fcd25",
   "metadata": {},
   "source": [
    "this function arranges the string in alphabetical order "
   ]
  },
  {
   "cell_type": "code",
   "execution_count": 15,
   "id": "c2a6b60d-1f40-43ef-9c08-bfb50b9a0637",
   "metadata": {},
   "outputs": [],
   "source": [
    "def alphabet_soup(string):\n",
    "    string = \"\".join(sorted(string.replace(\"\",\"\")))\n",
    "    return string"
   ]
  },
  {
   "cell_type": "markdown",
   "id": "f361bc47-e5ad-42ea-bb36-152f1827e0a6",
   "metadata": {},
   "source": [
    "Test"
   ]
  },
  {
   "cell_type": "code",
   "execution_count": 14,
   "id": "b9add96f-8677-484f-aee0-40a94899ab16",
   "metadata": {},
   "outputs": [
    {
     "data": {
      "text/plain": [
       "'ehllo'"
      ]
     },
     "execution_count": 14,
     "metadata": {},
     "output_type": "execute_result"
    }
   ],
   "source": [
    "alphabet_soup(\"hello\")"
   ]
  },
  {
   "cell_type": "code",
   "execution_count": 16,
   "id": "e8d28585-adc2-41fc-94da-6a75ea7cf34c",
   "metadata": {},
   "outputs": [
    {
     "data": {
      "text/plain": [
       "'acehkr'"
      ]
     },
     "execution_count": 16,
     "metadata": {},
     "output_type": "execute_result"
    }
   ],
   "source": [
    "alphabet_soup(\"hacker\")"
   ]
  },
  {
   "cell_type": "markdown",
   "id": "28d366f9-4895-47f2-8e89-e86c37594f57",
   "metadata": {},
   "source": [
    "EMOTICON PROBLEM"
   ]
  },
  {
   "cell_type": "code",
   "execution_count": 59,
   "id": "7e684a6d-5499-4591-95fc-6792001e9962",
   "metadata": {},
   "outputs": [],
   "source": [
    "def emotify(string):\n",
    "    emoticons ={\n",
    "        \"smile\": \":)\",\n",
    "        \"grin\": \":D\",\n",
    "        \"sad\": \":((\",\n",
    "        \"mad\": \">:(\"\n",
    "    }\n",
    "    for word, emoticon in emoticons.items():\n",
    "        string = string.replace(word, emoticon)\n",
    "    return string  \n",
    "    "
   ]
  },
  {
   "cell_type": "markdown",
   "id": "04daadf8-c1e2-4e10-ab5f-5bae33f2e4cf",
   "metadata": {},
   "source": [
    "Test"
   ]
  },
  {
   "cell_type": "code",
   "execution_count": 60,
   "id": "1b8bb081-5ffb-4ab8-8ce0-3bf8f21b8b48",
   "metadata": {},
   "outputs": [
    {
     "data": {
      "text/plain": [
       "'Make me :)'"
      ]
     },
     "execution_count": 60,
     "metadata": {},
     "output_type": "execute_result"
    }
   ],
   "source": [
    "emotify(\"Make me smile\")"
   ]
  },
  {
   "cell_type": "code",
   "execution_count": 61,
   "id": "a44aaae4-cee6-4dbe-b665-09f9c4d0981e",
   "metadata": {},
   "outputs": [
    {
     "data": {
      "text/plain": [
       "'I am >:('"
      ]
     },
     "execution_count": 61,
     "metadata": {},
     "output_type": "execute_result"
    }
   ],
   "source": [
    "emotify(\"I am mad\")"
   ]
  },
  {
   "cell_type": "code",
   "execution_count": 62,
   "id": "5f091e4e-27ed-41d7-8684-9d53967c636c",
   "metadata": {},
   "outputs": [
    {
     "data": {
      "text/plain": [
       "'I am very :(('"
      ]
     },
     "execution_count": 62,
     "metadata": {},
     "output_type": "execute_result"
    }
   ],
   "source": [
    "emotify(\"I am very sad\")"
   ]
  },
  {
   "cell_type": "code",
   "execution_count": 63,
   "id": "6eef6511-79a3-4810-a7d4-f0db7267c8f1",
   "metadata": {},
   "outputs": [
    {
     "data": {
      "text/plain": [
       "'She has a big :D in her face'"
      ]
     },
     "execution_count": 63,
     "metadata": {},
     "output_type": "execute_result"
    }
   ],
   "source": [
    "emotify(\"She has a big grin in her face\")"
   ]
  },
  {
   "cell_type": "markdown",
   "id": "7bc8dbca-8899-4a9a-b523-fa8e593ad7b9",
   "metadata": {},
   "source": [
    "UNPACKING LIST PROBLEM "
   ]
  },
  {
   "cell_type": "code",
   "execution_count": 57,
   "id": "a1fa3e4c-1ff5-4b19-afdc-8de1ba5894ef",
   "metadata": {},
   "outputs": [],
   "source": [
    "def unpack_list_slicing(input):\n",
    "    first = input[0]\n",
    "    middle = input[1:-1]\n",
    "    last = input[-1]\n",
    "\n",
    "    print(f\"first: {first}\\tmiddle: {middle}\\tlast: {last}\")\n",
    "    return first, middle, last"
   ]
  },
  {
   "cell_type": "code",
   "execution_count": 58,
   "id": "6bf7ec82-d827-4c4e-8fa3-1b30eb3cf03b",
   "metadata": {},
   "outputs": [
    {
     "name": "stdout",
     "output_type": "stream",
     "text": [
      "first: 1\tmiddle: [2, 3, 4, 5]\tlast: 6\n"
     ]
    },
    {
     "data": {
      "text/plain": [
       "(1, [2, 3, 4, 5], 6)"
      ]
     },
     "execution_count": 58,
     "metadata": {},
     "output_type": "execute_result"
    }
   ],
   "source": [
    "unpack_list_slicing(input = [1,2,3,4,5,6])"
   ]
  },
  {
   "cell_type": "code",
   "execution_count": null,
   "id": "c8737a72-0eb7-49f1-8934-98ca2e4b5bba",
   "metadata": {},
   "outputs": [],
   "source": []
  }
 ],
 "metadata": {
  "kernelspec": {
   "display_name": "Python [conda env:base] *",
   "language": "python",
   "name": "conda-base-py"
  },
  "language_info": {
   "codemirror_mode": {
    "name": "ipython",
    "version": 3
   },
   "file_extension": ".py",
   "mimetype": "text/x-python",
   "name": "python",
   "nbconvert_exporter": "python",
   "pygments_lexer": "ipython3",
   "version": "3.13.5"
  }
 },
 "nbformat": 4,
 "nbformat_minor": 5
}
